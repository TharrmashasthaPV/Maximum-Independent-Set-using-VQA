{
 "cells": [
  {
   "cell_type": "markdown",
   "id": "7c224e30-886c-48a2-8307-7c47f920a1a3",
   "metadata": {},
   "source": [
    "# Dependence of Algorithms on Ansatz Depth"
   ]
  },
  {
   "cell_type": "markdown",
   "id": "970c8970-1f7d-4d42-abff-5145d2ae982d",
   "metadata": {},
   "source": [
    "The first component of any quantum variational algorithm is the __ansatz__. Ansatz is the composition of a __reference circuit__ and a __variational form__. \n",
    "* _Reference circuit_ is the quantum circuit that prepares the reference state, a non-parametric state, that serves as the initial state for the quantum variational algorithm.\n",
    "* _Variational circuit_ is a parametric circuit, consisting of parametric rotation and entangling gates.\n",
    "Together, they form the ansatz.\n",
    "\n",
    "The importance of the ansatz is better explained with an abstract example. Consider a Hamiltonian $H_p$ for a problem $P$ such that the ground state and the ground state energy of the Hamiltonian can be used to find the optimal solution to $P$. Additionally, let the Hamiltonian be an $n$-qubit Hamiltonian. Then, we know that the ground state of $H_p$ is some $n$-qubit state $|\\psi_g\\rangle$. The goal of the variational algorithm is to construct the ground state $|\\psi_g\\rangle$. Since $|\\psi\\rangle$ is some arbitrary $n$-qubit state (whose structure we have no idea about), the number of gates required can be as large as $O(2^n)$. This means that a perfect ansatz will involve exponentially many parameters. In that case, one can simply simulate the Hamiltonian classically without the need for quantum resources. So, it is important that the ansatz is not exponentially large. In fact, we would like an ansatz that contains polynomially many gates. But this reduces the __expressivity__ of the ansatz, or in other words, there is a reduction in the number of states that can be prepared using the ansatz. So, there is a tradeoff between the number of parameters and the expressivity of an ansatz. So, choosing the good (whatever that should mean) ansatz is hugely important.\n",
    "\n",
    "One approach towards a good ansatz is to use some properties of the problem Hamiltonian $H_p$ to get some insight into the structure of the ground state $|\\psi_g\\rangle$. This could allow us to construct a small enough ansatz that will be able to prepare the ground state. For instance, if for some problem Hamiltonian, we know that the ground state takes the form $\\ket{\\phi(\\Theta)} = \\frac{1}{\\sqrt{2^n}}\\sum_{j=0}^{2^n-1} e^{-i\\theta_j}\\ket{j}$, then it is possible to construct a polynomial-sized ansatz that explores only the states of the form $\\ket{\\phi(\\Theta)}$. Such ansatzes are called _problem-dependent ansatz_.\n",
    "\n",
    "Another approach, one used in QAOA-style algorithms, is to borrow the structure from quantum annealing techniques that solve the problem."
   ]
  },
  {
   "cell_type": "markdown",
   "id": "04e3680c-0cc6-4a23-ab3f-5869ee3ed851",
   "metadata": {},
   "source": [
    "Our goal in this notebook is to investigate how the depth of the ansatz affects the performance of the algorithms. For this comparison, we use three different metrics as a proxy for the depth of an ansatz.\n",
    "\n",
    "1. __Number of repetitions of an ansatz sub-circuit__.\n",
    "\n",
    "Most of the ansatz is prepared by repeating an ansatz sub-circuit multiple times. For instance, the ansatz for VQE is prepared by repeating alternating layers of parametric rotations and entangling gates. Similarly, for QAOA and QAOA-style algorithms like ADAPT-QAOA and DC-QAOA, the ansatz consists of alternating circuits corresponding to the problem and the mixer Hamiltonians. In this case, the metric we use to compare algorithms is the number of repetitions of these sub-circuits, which we call _Max-Repetitions_.\n",
    "\n",
    "2. __The depth of the ansatz circuit__.\n",
    "\n",
    "While an equal number of repetitions naively looks like a good metric, two different algorithms that use subcircuits of different sizes would perform differently. The algorithm that uses the larger subcircuit gains an advantage over the other since larger circuits have more expressivity than smaller circuits. An alternate measure that can be considered is the _depth of the ansatz_. Two circuits of similar depth, more or less, take the same time to execute. So, we consider the power of algorithms when their ansatzes are of the same depth.\n",
    "\n",
    "3. __Number of parameters__.\n",
    "\n",
    "Similar to the depth of the ansatz being a good measure for the time on a quantum system, the number of parameters gives a good measure of the time required in the classical system. For instance, a cost function with a small number of parameters is relatively easier to optimize over than a cost function with a large number of parameters, for any classical optimizer. So, finally, we consider the performance of algorithms when their ansatzes have the same number of parameters."
   ]
  },
  {
   "cell_type": "code",
   "execution_count": null,
   "id": "89b402ad-f44b-4972-b183-9f4f8939fc3d",
   "metadata": {},
   "outputs": [],
   "source": []
  },
  {
   "cell_type": "markdown",
   "id": "e27faba2-65b0-4a9f-84a2-9e37f7650e18",
   "metadata": {},
   "source": [
    "### 1. Comparing across Max-Repetitions"
   ]
  },
  {
   "cell_type": "markdown",
   "id": "3f40f6b6-9bb7-4d45-a4cc-4fb5f8a0c505",
   "metadata": {},
   "source": [
    "In this notebook, we will see how the variational algorithms compare against each other when the max-repetitions are same for all the algorithms."
   ]
  },
  {
   "cell_type": "markdown",
   "id": "983fe651-5b7f-482e-93ec-85a003c807ff",
   "metadata": {},
   "source": [
    "### Importing required functions"
   ]
  },
  {
   "cell_type": "code",
   "execution_count": 1,
   "id": "8686035f-d883-4c7b-8f21-fb40a13c7dd8",
   "metadata": {},
   "outputs": [],
   "source": [
    "import warnings\n",
    "warnings.filterwarnings('ignore')"
   ]
  },
  {
   "cell_type": "code",
   "execution_count": 2,
   "id": "d0e4acd0-564d-41e4-ae0a-ee45cc6e4483",
   "metadata": {},
   "outputs": [],
   "source": [
    "from qiskit import *\n",
    "from qiskit.circuit.library import TwoLocal\n",
    "from qiskit.quantum_info import SparsePauliOp\n",
    "\n",
    "import rustworkx as rx\n",
    "import numpy as np\n",
    "from rustworkx.visualization import mpl_draw\n",
    "import matplotlib.pyplot as plt\n",
    "\n",
    "from src.graph_gen import *\n",
    "from src.hamiltonian_gen import get_hamiltonian_from_graph\n",
    "from src.helper_functions import top_k_counts"
   ]
  },
  {
   "cell_type": "code",
   "execution_count": 3,
   "id": "e17234c3-40ac-4a04-b04d-a5192af7bd77",
   "metadata": {},
   "outputs": [],
   "source": [
    "from src.bfminimize import BFMinimizeCombinatorial\n",
    "from src.qaoa import QAOA\n",
    "from src.adaptqaoa import AdaptQAOA\n",
    "from src.vqe import VQE\n",
    "from src.dcqaoa import DCQAOA"
   ]
  },
  {
   "cell_type": "code",
   "execution_count": 4,
   "id": "a73edf86-00b4-4319-806d-510cd5a07503",
   "metadata": {},
   "outputs": [],
   "source": [
    "from qiskit.primitives import StatevectorSampler\n",
    "\n",
    "sampler = StatevectorSampler()"
   ]
  },
  {
   "cell_type": "code",
   "execution_count": null,
   "id": "deb1bd05-6d15-4186-911e-626ca82fe2fe",
   "metadata": {},
   "outputs": [],
   "source": []
  },
  {
   "cell_type": "markdown",
   "id": "d0fbcdc6-04c5-44a0-8860-533bd22246d6",
   "metadata": {},
   "source": [
    "#### Graph Generation and Brute Force Optimization"
   ]
  },
  {
   "cell_type": "code",
   "execution_count": 5,
   "id": "38af4ea4-4d4e-41f7-81ea-e35ced82415d",
   "metadata": {},
   "outputs": [],
   "source": [
    "num_instances = 10\n",
    "graph_instances = []\n",
    "graph_hamiltonians = []\n",
    "\n",
    "for i in range(num_instances):\n",
    "    graph = generate_random_graph(6, 0.4)\n",
    "    graph_instances.append(graph)\n",
    "    cost_hamiltonian = get_hamiltonian_from_graph(graph)\n",
    "    graph_hamiltonians.append(cost_hamiltonian)"
   ]
  },
  {
   "cell_type": "code",
   "execution_count": 6,
   "id": "f389df1d-93ca-4c0d-9ca1-e33ec791667c",
   "metadata": {},
   "outputs": [],
   "source": [
    "brute_optimal_cost = []\n",
    "for hamiltonian in graph_hamiltonians:\n",
    "    brute = BFMinimizeCombinatorial(hamiltonian)\n",
    "    brute.run()\n",
    "    brute_optimal_cost.append(brute.optimal_value)"
   ]
  },
  {
   "cell_type": "code",
   "execution_count": null,
   "id": "d437a356-2bfe-407f-8ef9-6a6a295eeed7",
   "metadata": {},
   "outputs": [],
   "source": []
  },
  {
   "cell_type": "markdown",
   "id": "1ffefe9a-cb57-47ee-9eca-b5424d2b264f",
   "metadata": {},
   "source": [
    "#### VQE"
   ]
  },
  {
   "cell_type": "code",
   "execution_count": 7,
   "id": "35680a63-68e1-4c7d-8205-0054e0f96491",
   "metadata": {},
   "outputs": [
    {
     "name": "stdout",
     "output_type": "stream",
     "text": [
      "Solving for Reps 0...\n",
      "Solving for Reps 1...\n",
      "Solving for Reps 2...\n",
      "Solving for Reps 3...\n",
      "Solving for Reps 4...\n",
      "Solving for Reps 5...\n",
      "Solving for Reps 6...\n"
     ]
    }
   ],
   "source": [
    "max_repetitions = 7\n",
    "vqe_optimal_cost = []\n",
    "\n",
    "for reps in range(max_repetitions):\n",
    "    print(f\"Solving for Reps {reps}...\")\n",
    "    vqe_optimal_cost.append([])\n",
    "    for idx, hamiltonian in enumerate(graph_hamiltonians):\n",
    "        vqe_ansatz = TwoLocal(\n",
    "                hamiltonian.num_qubits,\n",
    "                rotation_blocks = ['rx'],\n",
    "                entanglement_blocks = ['cz'],\n",
    "                entanglement = 'full',\n",
    "                reps = reps,\n",
    "            )\n",
    "        vqe = VQE(hamiltonian, ansatz = vqe_ansatz)\n",
    "        vqe.run()\n",
    "        vqe_optimal_cost[-1].append(vqe.optimal_value)"
   ]
  },
  {
   "cell_type": "code",
   "execution_count": 8,
   "id": "934b2c6a-3f13-4cbd-9045-a9e5e7c8d1b4",
   "metadata": {},
   "outputs": [],
   "source": [
    "avg_vqe_optimal_cost = []\n",
    "for optimal_cost_arr in vqe_optimal_cost:\n",
    "    avg_vqe_optimal_cost.append(sum(optimal_cost_arr)/num_instances)\n",
    "\n",
    "avg_brute_optimal_cost = sum(brute_optimal_cost)/num_instances\n",
    "\n",
    "avg_vqe_error = [np.abs(avg_brute_optimal_cost - v_opt) for v_opt in avg_vqe_optimal_cost]"
   ]
  },
  {
   "cell_type": "code",
   "execution_count": 9,
   "id": "6b0ececd-3688-4017-9e6b-51bfaf611eb4",
   "metadata": {},
   "outputs": [
    {
     "data": {
      "image/png": "[encoded data removed]",
      "text/plain": [
       "<Figure size 640x480 with 1 Axes>"
      ]
     },
     "metadata": {},
     "output_type": "display_data"
    }
   ],
   "source": [
    "plt.scatter(range(max_repetitions), avg_vqe_error, color = 'r', label = 'VQE')\n",
    "\n",
    "plt.ylabel(\"Max. Repetitions\")\n",
    "plt.ylabel(\"Abs. Error\")\n",
    "\n",
    "plt.legend(bbox_to_anchor=(1.05, 1), loc='upper left')\n",
    "plt.show()"
   ]
  },
  {
   "cell_type": "code",
   "execution_count": null,
   "id": "ba9206dd-5d79-4171-9510-6d44369a8ef3",
   "metadata": {},
   "outputs": [],
   "source": []
  },
  {
   "cell_type": "markdown",
   "id": "41fe54fc-fa67-4dee-b399-bcd7466ef37a",
   "metadata": {},
   "source": [
    "#### QAOA"
   ]
  },
  {
   "cell_type": "code",
   "execution_count": 10,
   "id": "9fb5235f-ca60-4144-9d4d-ec0a84eac004",
   "metadata": {},
   "outputs": [
    {
     "name": "stdout",
     "output_type": "stream",
     "text": [
      "Solving for Reps 0...\n",
      "Solving for Reps 1...\n",
      "Solving for Reps 2...\n",
      "Solving for Reps 3...\n",
      "Solving for Reps 4...\n",
      "Solving for Reps 5...\n",
      "Solving for Reps 6...\n"
     ]
    }
   ],
   "source": [
    "qaoa_optimal_cost = []\n",
    "\n",
    "for reps in range(max_repetitions):\n",
    "    print(f\"Solving for Reps {reps}...\")\n",
    "    qaoa_optimal_cost.append([])\n",
    "    for idx, hamiltonian in enumerate(graph_hamiltonians):\n",
    "        qaoa = QAOA(hamiltonian, num_layers = reps)\n",
    "        qaoa.run()\n",
    "        qaoa_optimal_cost[-1].append(qaoa.optimal_value)"
   ]
  },
  {
   "cell_type": "code",
   "execution_count": 11,
   "id": "70e9798a-c096-4803-956f-5083fec153db",
   "metadata": {},
   "outputs": [],
   "source": [
    "avg_qaoa_optimal_cost = []\n",
    "for optimal_cost_arr in qaoa_optimal_cost:\n",
    "    avg_qaoa_optimal_cost.append(sum(optimal_cost_arr)/num_instances)\n",
    "\n",
    "avg_qaoa_error = [np.abs(avg_brute_optimal_cost - v_opt) for v_opt in avg_qaoa_optimal_cost]"
   ]
  },
  {
   "cell_type": "code",
   "execution_count": 12,
   "id": "7dad2b87-95d5-45f2-9b88-d1dac27e4d26",
   "metadata": {},
   "outputs": [
    {
     "data": {
      "image/png": "[encoded data removed]",
      "text/plain": [
       "<Figure size 640x480 with 1 Axes>"
      ]
     },
     "metadata": {},
     "output_type": "display_data"
    }
   ],
   "source": [
    "plt.scatter(range(max_repetitions), avg_vqe_error, color = 'r', label = 'VQE')\n",
    "plt.scatter(range(max_repetitions), avg_qaoa_error, color = 'b', label = 'QAOA')\n",
    "\n",
    "plt.ylabel(\"Max. Repetitions\")\n",
    "plt.ylabel(\"Abs. Error\")\n",
    "\n",
    "plt.legend(bbox_to_anchor=(1.05, 1), loc='upper left')\n",
    "plt.show()"
   ]
  },
  {
   "cell_type": "code",
   "execution_count": null,
   "id": "8182f5a9-0e85-4f4b-ad1e-26501553f112",
   "metadata": {},
   "outputs": [],
   "source": []
  },
  {
   "cell_type": "markdown",
   "id": "76588469-a994-4031-baea-748f3ca48b2a",
   "metadata": {},
   "source": [
    "#### ADAPT-QAOA"
   ]
  },
  {
   "cell_type": "code",
   "execution_count": 13,
   "id": "712e5f73-fa71-42f7-9e53-560d588092e6",
   "metadata": {},
   "outputs": [
    {
     "name": "stdout",
     "output_type": "stream",
     "text": [
      "Solving for Reps 0...\n",
      "Solving for Reps 1...\n",
      "Solving for Reps 2...\n",
      "Solving for Reps 3...\n",
      "Solving for Reps 4...\n",
      "Solving for Reps 5...\n",
      "Solving for Reps 6...\n"
     ]
    }
   ],
   "source": [
    "aqaoa_single_optimal_cost = []\n",
    "\n",
    "for reps in range(max_repetitions):\n",
    "    print(f\"Solving for Reps {reps}...\")\n",
    "    aqaoa_single_optimal_cost.append([])\n",
    "    for idx, hamiltonian in enumerate(graph_hamiltonians):\n",
    "        adapt_qaoa_single = AdaptQAOA( hamiltonian, max_num_layers = reps, mixer_pool_type = 'single')\n",
    "        adapt_qaoa_single.run()\n",
    "        aqaoa_single_optimal_cost[-1].append(adapt_qaoa_single.optimal_value)"
   ]
  },
  {
   "cell_type": "code",
   "execution_count": 14,
   "id": "03383f6e-6a20-4a11-b786-a2623046f31d",
   "metadata": {},
   "outputs": [],
   "source": [
    "avg_aqaoa_single_optimal_cost = []\n",
    "for optimal_cost_arr in aqaoa_single_optimal_cost:\n",
    "    avg_aqaoa_single_optimal_cost.append(sum(optimal_cost_arr)/num_instances)\n",
    "\n",
    "avg_aqaoa_single_error = [np.abs(avg_brute_optimal_cost - aq_opt) for aq_opt in avg_aqaoa_single_optimal_cost]"
   ]
  },
  {
   "cell_type": "code",
   "execution_count": 17,
   "id": "cc4f3edf-3f3c-4ee7-95b0-355bd889b1a7",
   "metadata": {},
   "outputs": [
    {
     "data": {
      "image/png": "[encoded data removed]",
      "text/plain": [
       "<Figure size 640x480 with 1 Axes>"
      ]
     },
     "metadata": {},
     "output_type": "display_data"
    }
   ],
   "source": [
    "plt.scatter(range(max_repetitions), avg_vqe_error, color = 'r', label = 'VQE')\n",
    "plt.scatter(range(max_repetitions), avg_qaoa_error, color = 'b', label = 'QAOA')\n",
    "plt.scatter(range(max_repetitions), avg_aqaoa_single_error, color = 'y', label = 'ADAPT-QAOA (Single)')\n",
    "\n",
    "plt.ylabel(\"Max. Repetitions\")\n",
    "plt.ylabel(\"Abs. Error\")\n",
    "\n",
    "plt.legend(bbox_to_anchor=(1.05, 1), loc='upper left')\n",
    "plt.show()"
   ]
  },
  {
   "cell_type": "code",
   "execution_count": null,
   "id": "12b4714e-04a6-4916-bc78-bf4b766794fb",
   "metadata": {},
   "outputs": [],
   "source": []
  },
  {
   "cell_type": "code",
   "execution_count": 18,
   "id": "c6aa96cd-ccaf-436d-b19b-3cbde0ffb47b",
   "metadata": {},
   "outputs": [
    {
     "name": "stdout",
     "output_type": "stream",
     "text": [
      "Solving for Reps 0...\n",
      "Solving for Reps 1...\n",
      "Solving for Reps 2...\n",
      "Solving for Reps 3...\n",
      "Solving for Reps 4...\n",
      "Solving for Reps 5...\n",
      "Solving for Reps 6...\n"
     ]
    }
   ],
   "source": [
    "aqaoa_double_optimal_cost = []\n",
    "\n",
    "for reps in range(max_repetitions):\n",
    "    print(f\"Solving for Reps {reps}...\")\n",
    "    aqaoa_double_optimal_cost.append([])\n",
    "    for idx, hamiltonian in enumerate(graph_hamiltonians):\n",
    "        adapt_qaoa_double = AdaptQAOA( hamiltonian, max_num_layers = reps, mixer_pool_type = 'double')\n",
    "        adapt_qaoa_double.run()\n",
    "        aqaoa_double_optimal_cost[-1].append(adapt_qaoa_double.optimal_value)"
   ]
  },
  {
   "cell_type": "code",
   "execution_count": 19,
   "id": "749e8aaa-96dc-40c7-a484-5090ffa825b0",
   "metadata": {},
   "outputs": [],
   "source": [
    "avg_aqaoa_double_optimal_cost = []\n",
    "for optimal_cost_arr in aqaoa_double_optimal_cost:\n",
    "    avg_aqaoa_double_optimal_cost.append(sum(optimal_cost_arr)/num_instances)\n",
    "\n",
    "avg_aqaoa_double_error = [np.abs(avg_brute_optimal_cost - aq_opt) for aq_opt in avg_aqaoa_double_optimal_cost]"
   ]
  },
  {
   "cell_type": "code",
   "execution_count": 20,
   "id": "d0d409d3-de28-477d-bb4e-54db84d2f66a",
   "metadata": {},
   "outputs": [
    {
     "data": {
      "image/png": "[encoded data removed]",
      "text/plain": [
       "<Figure size 640x480 with 1 Axes>"
      ]
     },
     "metadata": {},
     "output_type": "display_data"
    }
   ],
   "source": [
    "plt.scatter(range(max_repetitions), avg_vqe_error, color = 'r', label = 'VQE')\n",
    "plt.scatter(range(max_repetitions), avg_qaoa_error, color = 'b', label = 'QAOA')\n",
    "plt.scatter(range(max_repetitions), avg_aqaoa_single_error, color = 'y', label = 'ADAPT-QAOA (Single)')\n",
    "plt.scatter(range(max_repetitions), avg_aqaoa_double_error, color = 'g', label = 'ADAPT-QAOA (Double)')\n",
    "\n",
    "plt.ylabel(\"Max. Repetitions\")\n",
    "plt.ylabel(\"Abs. Error\")\n",
    "\n",
    "plt.legend(bbox_to_anchor=(1.05, 1), loc='upper left')\n",
    "plt.show()"
   ]
  },
  {
   "cell_type": "code",
   "execution_count": null,
   "id": "f407bc25-6155-4c6d-8b44-727fd1a53c1c",
   "metadata": {},
   "outputs": [],
   "source": []
  },
  {
   "cell_type": "markdown",
   "id": "c15f8e4a-bd3f-4b4b-8d29-29a9726cf99c",
   "metadata": {},
   "source": [
    "#### DC-QAOA"
   ]
  },
  {
   "cell_type": "code",
   "execution_count": 22,
   "id": "0387cb06-bd96-4b8a-bb34-29815b1851cb",
   "metadata": {},
   "outputs": [
    {
     "name": "stdout",
     "output_type": "stream",
     "text": [
      "Solving for Reps 0...\n",
      "Solving for Reps 1...\n",
      "Solving for Reps 2...\n",
      "Solving for Reps 3...\n",
      "Solving for Reps 4...\n",
      "Solving for Reps 5...\n",
      "Solving for Reps 6...\n"
     ]
    }
   ],
   "source": [
    "dcqaoa_optimal_cost = []\n",
    "\n",
    "for reps in range(max_repetitions):\n",
    "    print(f\"Solving for Reps {reps}...\")\n",
    "    dcqaoa_optimal_cost.append([])\n",
    "    for idx, hamiltonian in enumerate(graph_hamiltonians):\n",
    "        dcqaoa = DCQAOA( hamiltonian, num_layers = reps, cd_hamiltonian_type=['XY', 'YX'])\n",
    "        dcqaoa.run()\n",
    "        dcqaoa_optimal_cost[-1].append(dcqaoa.optimal_value)"
   ]
  },
  {
   "cell_type": "code",
   "execution_count": 23,
   "id": "22e3687d-4344-413b-ba73-c0834bf715fe",
   "metadata": {},
   "outputs": [],
   "source": [
    "avg_dcqaoa_optimal_cost = []\n",
    "for optimal_cost_arr in dcqaoa_optimal_cost:\n",
    "    avg_dcqaoa_optimal_cost.append(sum(optimal_cost_arr)/num_instances)\n",
    "\n",
    "avg_dcqaoa_error = [np.abs(avg_brute_optimal_cost - dc_opt) for dc_opt in avg_dcqaoa_optimal_cost]"
   ]
  },
  {
   "cell_type": "code",
   "execution_count": 24,
   "id": "28ed19a4-c87c-4f42-9559-b65c0fb43dcd",
   "metadata": {},
   "outputs": [
    {
     "data": {
      "image/png": "[encoded data removed]",
      "text/plain": [
       "<Figure size 640x480 with 1 Axes>"
      ]
     },
     "metadata": {},
     "output_type": "display_data"
    }
   ],
   "source": [
    "plt.scatter(range(max_repetitions), avg_vqe_error, color = 'r', label = 'VQE')\n",
    "plt.scatter(range(max_repetitions), avg_qaoa_error, color = 'b', label = 'QAOA')\n",
    "plt.scatter(range(max_repetitions), avg_aqaoa_single_error, color = 'y', label = 'ADAPT-QAOA (Single)')\n",
    "plt.scatter(range(max_repetitions), avg_aqaoa_double_error, color = 'g', label = 'ADAPT-QAOA (Double)')\n",
    "plt.scatter(range(max_repetitions), avg_dcqaoa_error, color = 'k', label = 'DC-QAOA')\n",
    "\n",
    "plt.ylabel(\"Max. Repetitions\")\n",
    "plt.ylabel(\"Abs. Error\")\n",
    "\n",
    "plt.legend(bbox_to_anchor=(1.05, 1), loc='upper left')\n",
    "plt.show()"
   ]
  },
  {
   "cell_type": "markdown",
   "id": "f4a6d3b0-43b6-4037-8aae-bbbcb425f8f0",
   "metadata": {},
   "source": [
    "First, we can note that for any given variational algorithm, the error goes down as the number of repetitions is increased. This indicates that the algorithms are able to move closer to the actual ground state when the number of repetitions is large. This is expected as more repetitions mean more parameters and more space to explore\n",
    "\n",
    "Secondly, we observe that the VQE algorithm performs better than all the other algorithms. The error is consistently close to zero. This can possibly be attributed to the fact that the number of parameters used in the VQE algorithm is large. Even when the max-repetitions is $1$, the number of parameters is as high as $12$, as can be seen below, whereas the number of parameters is as low as $2$ and $3$ when the max-repetitions is $1$. The general notion is that the more the number of parameters, the larger the space the algorithm will be able to explore. However, this comes with the assumption that the parametric gates are varied in nature (we cannot expect a circuit that has only phase gates to converge to some arbitrary superposition)."
   ]
  },
  {
   "cell_type": "code",
   "execution_count": 25,
   "id": "2fc07796-1eac-429a-8302-85e48da28d44",
   "metadata": {},
   "outputs": [
    {
     "name": "stdout",
     "output_type": "stream",
     "text": [
      "The number of parameters in the VQE ansatz is 12.\n"
     ]
    }
   ],
   "source": [
    "vqe_ansatz = TwoLocal(\n",
    "                graph_hamiltonians[0].num_qubits,\n",
    "                rotation_blocks = ['rx'],\n",
    "                entanglement_blocks = ['cz'],\n",
    "                entanglement = 'full',\n",
    "                reps = 1,\n",
    "            )\n",
    "print(f\"The number of parameters in the VQE ansatz is {vqe_ansatz.num_parameters}.\")"
   ]
  },
  {
   "cell_type": "markdown",
   "id": "b90cf580-7750-40db-8c12-22cd11f01764",
   "metadata": {},
   "source": [
    "So, the VQE algorithm performs the best when the max-repetitions are fixed since the expressivity of the TwoLocal ansatz is quite high even for a low number of max-repetitions.\n",
    "\n",
    "As for the QAOA-style algorithms, the ADAPT-QAOA performs the best. We can observe that both the 'single' and 'double' mixer types have similar performance. The performance of QAOA is also similar to ADAPT-QAOA. However, it is interesting to note that the performance of DC-QAOA is worse than QAOA. This could possibly be due to the use of only $XY$ terms in its CD-Hamiltonian and ignoring the $Y$ and $YZ$ terms."
   ]
  },
  {
   "cell_type": "code",
   "execution_count": null,
   "id": "e0f33823-9f44-4495-87c6-239359664e5c",
   "metadata": {},
   "outputs": [],
   "source": []
  }
 ],
 "metadata": {
  "kernelspec": {
   "display_name": "Python 3 (ipykernel)",
   "language": "python",
   "name": "python3"
  },
  "language_info": {
   "codemirror_mode": {
    "name": "ipython",
    "version": 3
   },
   "file_extension": ".py",
   "mimetype": "text/x-python",
   "name": "python",
   "nbconvert_exporter": "python",
   "pygments_lexer": "ipython3",
   "version": "3.12.3"
  }
 },
 "nbformat": 4,
 "nbformat_minor": 5
}
