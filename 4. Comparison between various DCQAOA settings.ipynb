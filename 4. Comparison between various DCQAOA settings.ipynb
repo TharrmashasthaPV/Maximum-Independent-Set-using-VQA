{
 "cells": [
  {
   "cell_type": "markdown",
   "id": "7c224e30-886c-48a2-8307-7c47f920a1a3",
   "metadata": {},
   "source": [
    "# Comparision between Various DCQAOA Settings"
   ]
  },
  {
   "cell_type": "markdown",
   "id": "970c8970-1f7d-4d42-abff-5145d2ae982d",
   "metadata": {},
   "source": [
    "DCQAOA is a generalization of the QAOA algorithm that makes use of an additional Hamiltonian, called the Counterdiabatic Hamiltonian or CD Hamiltonian. The QAOA algorithm is, in some sense, a digitized version of quantum annealing, where the time parameters are replaced by parameters to be optimized over. Quantum annealing promises to reach the ground state of the problem Hamiltonian from the initial state, given that the evolution is performed very slowly. For QAOA, this translates to a large number of layers of repetition. To combat this slow driving, DCQAOA uses a counterdiabatic term to incorporate shortcuts to adiabaticity, which reduces the time to solution, or alternatively reduces the circuit depth or the number of layers of repetition. This ultimately leads to faster convergence to the optimal solution.\n",
    "\n",
    "The CD Hamiltonian can take multiple forms. One such form is the commutator of the problem Hamiltonian and the mixer Hamiltonian. This makes the CD Hamiltonian dependent on the problem Hamiltonian. Alternatively, one can also choose a CD Hamiltonian that is problem Hamiltonian independent. To do this, one can choose the CD Hamiltonian $H_{CD} = \\sum_i \\alpha_i Y_i + \\sum_{i,j} \\beta_{i,j} X_iY_j + \\sum_{i,j} \\gamma_{i,j} Y_iZ_j$, for some values of $\\alpha_i, \\beta_{ij}$ and $\\gamma_{ij}$. Note that some of these can also be $0$.\n",
    "\n",
    "In this notebook, we investigate how different CD Hamiltonians affect the performance of DCQAOA for solving the MIS problem. For this, we consider the following $8$ CD Hamiltonians for simulations:\n",
    "1. Commutator of the problem Hamiltonian and the mixer Hamiltonian\n",
    "2. $H_{CD} = \\sum_i Y_i$\n",
    "3. $H_{CD} = \\sum_{i,j} X_iY_j$\n",
    "4. $H_{CD} = \\sum_{i,j} Y_iZ_j$\n",
    "5. $H_{CD} = \\sum_i Y_i + \\sum_{i,j} X_iY_j$\n",
    "6. $H_{CD} = \\sum_i Y_i + \\sum_{i,j} Y_iZ_j$\n",
    "7. $H_{CD} = \\sum_{i,j} X_iY_j + \\sum_{i,j} Y_iZ_j$\n",
    "8. $H_{CD} = \\sum_i Y_i + \\sum_{i,j} X_iY_j + \\sum_{i,j} Y_iZ_j$\n",
    "\n",
    "For comparison, we compare the performance of DCQAOA with different CD Hamiltonian settings with the naive QAOA algorithm, for different numbers of layers of repetition."
   ]
  },
  {
   "cell_type": "markdown",
   "id": "983fe651-5b7f-482e-93ec-85a003c807ff",
   "metadata": {},
   "source": [
    "### Importing required functions"
   ]
  },
  {
   "cell_type": "code",
   "execution_count": 1,
   "id": "8686035f-d883-4c7b-8f21-fb40a13c7dd8",
   "metadata": {},
   "outputs": [],
   "source": [
    "import warnings\n",
    "warnings.filterwarnings('ignore')"
   ]
  },
  {
   "cell_type": "code",
   "execution_count": 2,
   "id": "d0e4acd0-564d-41e4-ae0a-ee45cc6e4483",
   "metadata": {},
   "outputs": [],
   "source": [
    "from qiskit import *\n",
    "from qiskit.circuit.library import TwoLocal\n",
    "from qiskit.quantum_info import SparsePauliOp\n",
    "\n",
    "import rustworkx as rx\n",
    "import numpy as np\n",
    "from rustworkx.visualization import mpl_draw\n",
    "import matplotlib.pyplot as plt\n",
    "\n",
    "from src.graph_gen import *\n",
    "from src.hamiltonian_gen import get_hamiltonian_from_graph\n",
    "from src.helper_functions import top_k_counts"
   ]
  },
  {
   "cell_type": "code",
   "execution_count": 3,
   "id": "e17234c3-40ac-4a04-b04d-a5192af7bd77",
   "metadata": {},
   "outputs": [],
   "source": [
    "from src.bfminimize import BFMinimizeCombinatorial\n",
    "from src.qaoa import QAOA\n",
    "from src.dcqaoa import DCQAOA"
   ]
  },
  {
   "cell_type": "markdown",
   "id": "d0fbcdc6-04c5-44a0-8860-533bd22246d6",
   "metadata": {},
   "source": [
    "#### Graph Generation and Brute Force Optimization"
   ]
  },
  {
   "cell_type": "code",
   "execution_count": 4,
   "id": "38af4ea4-4d4e-41f7-81ea-e35ced82415d",
   "metadata": {},
   "outputs": [],
   "source": [
    "num_instances = 8\n",
    "graph_instances = []\n",
    "graph_hamiltonians = []\n",
    "\n",
    "for i in range(num_instances):\n",
    "    graph = generate_random_graph(6, 0.4)\n",
    "    graph_instances.append(graph)\n",
    "    cost_hamiltonian = get_hamiltonian_from_graph(graph)\n",
    "    graph_hamiltonians.append(cost_hamiltonian)"
   ]
  },
  {
   "cell_type": "code",
   "execution_count": 5,
   "id": "f389df1d-93ca-4c0d-9ca1-e33ec791667c",
   "metadata": {},
   "outputs": [],
   "source": [
    "brute_optimal_cost = []\n",
    "for hamiltonian in graph_hamiltonians:\n",
    "    brute = BFMinimizeCombinatorial(hamiltonian)\n",
    "    brute.run()\n",
    "    brute_optimal_cost.append(brute.optimal_value)"
   ]
  },
  {
   "cell_type": "code",
   "execution_count": 6,
   "id": "d437a356-2bfe-407f-8ef9-6a6a295eeed7",
   "metadata": {},
   "outputs": [],
   "source": [
    "avg_brute_optimal_cost = sum(brute_optimal_cost)/num_instances"
   ]
  },
  {
   "cell_type": "markdown",
   "id": "41fe54fc-fa67-4dee-b399-bcd7466ef37a",
   "metadata": {},
   "source": [
    "#### QAOA"
   ]
  },
  {
   "cell_type": "code",
   "execution_count": 7,
   "id": "caf22d7c-a682-49b7-9876-9547fccc96b8",
   "metadata": {},
   "outputs": [],
   "source": [
    "max_repetitions = 6"
   ]
  },
  {
   "cell_type": "code",
   "execution_count": 8,
   "id": "9fb5235f-ca60-4144-9d4d-ec0a84eac004",
   "metadata": {},
   "outputs": [
    {
     "name": "stdout",
     "output_type": "stream",
     "text": [
      "Solving for Reps 0...\n",
      "Solving for Reps 1...\n",
      "Solving for Reps 2...\n",
      "Solving for Reps 3...\n",
      "Solving for Reps 4...\n",
      "Solving for Reps 5...\n"
     ]
    }
   ],
   "source": [
    "qaoa_optimal_cost = []\n",
    "\n",
    "for reps in range(max_repetitions):\n",
    "    print(f\"Solving for Reps {reps}...\")\n",
    "    qaoa_optimal_cost.append([])\n",
    "    for idx, hamiltonian in enumerate(graph_hamiltonians):\n",
    "        qaoa = QAOA(hamiltonian, num_layers = reps)\n",
    "        qaoa.run()\n",
    "        qaoa_optimal_cost[-1].append(qaoa.optimal_value)"
   ]
  },
  {
   "cell_type": "code",
   "execution_count": 9,
   "id": "70e9798a-c096-4803-956f-5083fec153db",
   "metadata": {},
   "outputs": [],
   "source": [
    "avg_qaoa_optimal_cost = []\n",
    "for optimal_cost_arr in qaoa_optimal_cost:\n",
    "    avg_qaoa_optimal_cost.append(sum(optimal_cost_arr)/num_instances)\n",
    "\n",
    "avg_qaoa_error = [np.abs(avg_brute_optimal_cost - q_opt) for q_opt in avg_qaoa_optimal_cost]"
   ]
  },
  {
   "cell_type": "code",
   "execution_count": 10,
   "id": "7dad2b87-95d5-45f2-9b88-d1dac27e4d26",
   "metadata": {},
   "outputs": [
    {
     "data": {
      "image/png": "[encoded data removed]",
      "text/plain": [
       "<Figure size 640x480 with 1 Axes>"
      ]
     },
     "metadata": {},
     "output_type": "display_data"
    }
   ],
   "source": [
    "plt.scatter(range(max_repetitions), avg_qaoa_error, color = 'b', label = 'QAOA')\n",
    "\n",
    "plt.ylabel(\"Max. Repetitions\")\n",
    "plt.ylabel(\"Abs. Error\")\n",
    "\n",
    "plt.legend(bbox_to_anchor=(1.05, 1), loc='upper left')\n",
    "plt.show()"
   ]
  },
  {
   "cell_type": "markdown",
   "id": "c15f8e4a-bd3f-4b4b-8d29-29a9726cf99c",
   "metadata": {},
   "source": [
    "#### DC-QAOA\\['Y'\\]"
   ]
  },
  {
   "cell_type": "code",
   "execution_count": 11,
   "id": "0387cb06-bd96-4b8a-bb34-29815b1851cb",
   "metadata": {},
   "outputs": [
    {
     "name": "stdout",
     "output_type": "stream",
     "text": [
      "Solving for Reps 0...\n",
      "Solving for Reps 1...\n",
      "Solving for Reps 2...\n",
      "Solving for Reps 3...\n",
      "Solving for Reps 4...\n",
      "Solving for Reps 5...\n"
     ]
    }
   ],
   "source": [
    "dcqaoa_y_optimal_cost = []\n",
    "\n",
    "for reps in range(max_repetitions):\n",
    "    print(f\"Solving for Reps {reps}...\")\n",
    "    dcqaoa_y_optimal_cost.append([])\n",
    "    for idx, hamiltonian in enumerate(graph_hamiltonians):\n",
    "        dcqaoa_y = DCQAOA( hamiltonian, num_layers = reps, cd_hamiltonian_type=['Y'])\n",
    "        dcqaoa_y.run()\n",
    "        dcqaoa_y_optimal_cost[-1].append(dcqaoa_y.optimal_value)"
   ]
  },
  {
   "cell_type": "code",
   "execution_count": 12,
   "id": "22e3687d-4344-413b-ba73-c0834bf715fe",
   "metadata": {},
   "outputs": [],
   "source": [
    "avg_dcqaoa_y_optimal_cost = []\n",
    "for optimal_cost_arr in dcqaoa_y_optimal_cost:\n",
    "    avg_dcqaoa_y_optimal_cost.append(sum(optimal_cost_arr)/num_instances)\n",
    "\n",
    "avg_dcqaoa_y_error = [np.abs(avg_brute_optimal_cost - dc_opt) for dc_opt in avg_dcqaoa_y_optimal_cost]"
   ]
  },
  {
   "cell_type": "markdown",
   "id": "e41af94c-19a4-44e2-850e-c96ff5e42f32",
   "metadata": {},
   "source": [
    "#### DC-QAOA\\['XY'\\]"
   ]
  },
  {
   "cell_type": "code",
   "execution_count": 13,
   "id": "5bad99cf-4c2c-4fa7-bf17-85e916c23b12",
   "metadata": {},
   "outputs": [
    {
     "name": "stdout",
     "output_type": "stream",
     "text": [
      "Solving for Reps 0...\n",
      "Solving for Reps 1...\n",
      "Solving for Reps 2...\n",
      "Solving for Reps 3...\n",
      "Solving for Reps 4...\n",
      "Solving for Reps 5...\n"
     ]
    }
   ],
   "source": [
    "dcqaoa_xy_optimal_cost = []\n",
    "\n",
    "for reps in range(max_repetitions):\n",
    "    print(f\"Solving for Reps {reps}...\")\n",
    "    dcqaoa_xy_optimal_cost.append([])\n",
    "    for idx, hamiltonian in enumerate(graph_hamiltonians):\n",
    "        dcqaoa_xy = DCQAOA( hamiltonian, num_layers = reps, cd_hamiltonian_type=['XY', 'YX'])\n",
    "        dcqaoa_xy.run()\n",
    "        dcqaoa_xy_optimal_cost[-1].append(dcqaoa_xy.optimal_value)"
   ]
  },
  {
   "cell_type": "code",
   "execution_count": 14,
   "id": "5b7db7d8-8f78-4460-b1b3-0e661e920247",
   "metadata": {},
   "outputs": [],
   "source": [
    "avg_dcqaoa_xy_optimal_cost = []\n",
    "for optimal_cost_arr in dcqaoa_xy_optimal_cost:\n",
    "    avg_dcqaoa_xy_optimal_cost.append(sum(optimal_cost_arr)/num_instances)\n",
    "\n",
    "avg_dcqaoa_xy_error = [np.abs(avg_brute_optimal_cost - dc_opt) for dc_opt in avg_dcqaoa_xy_optimal_cost]"
   ]
  },
  {
   "cell_type": "markdown",
   "id": "a77111c3-47ad-49fd-af7e-bbb2a5fbf39e",
   "metadata": {},
   "source": [
    "#### DC-QAOA\\['YZ'\\]"
   ]
  },
  {
   "cell_type": "code",
   "execution_count": 15,
   "id": "e592d06d-b495-4f48-9e86-19f53fc97f9a",
   "metadata": {},
   "outputs": [
    {
     "name": "stdout",
     "output_type": "stream",
     "text": [
      "Solving for Reps 0...\n",
      "Solving for Reps 1...\n",
      "Solving for Reps 2...\n",
      "Solving for Reps 3...\n",
      "Solving for Reps 4...\n",
      "Solving for Reps 5...\n"
     ]
    }
   ],
   "source": [
    "dcqaoa_yz_optimal_cost = []\n",
    "\n",
    "for reps in range(max_repetitions):\n",
    "    print(f\"Solving for Reps {reps}...\")\n",
    "    dcqaoa_yz_optimal_cost.append([])\n",
    "    for idx, hamiltonian in enumerate(graph_hamiltonians):\n",
    "        dcqaoa_yz = DCQAOA( hamiltonian, num_layers = reps, cd_hamiltonian_type=['YZ', 'ZY'])\n",
    "        dcqaoa_yz.run()\n",
    "        dcqaoa_yz_optimal_cost[-1].append(dcqaoa_yz.optimal_value)"
   ]
  },
  {
   "cell_type": "code",
   "execution_count": 16,
   "id": "4eeccb15-e3e4-459b-bff1-aee1e4c10680",
   "metadata": {},
   "outputs": [],
   "source": [
    "avg_dcqaoa_yz_optimal_cost = []\n",
    "for optimal_cost_arr in dcqaoa_yz_optimal_cost:\n",
    "    avg_dcqaoa_yz_optimal_cost.append(sum(optimal_cost_arr)/num_instances)\n",
    "\n",
    "avg_dcqaoa_yz_error = [np.abs(avg_brute_optimal_cost - dc_opt) for dc_opt in avg_dcqaoa_yz_optimal_cost]"
   ]
  },
  {
   "cell_type": "markdown",
   "id": "68b172fc-b8f3-4ca2-bd0c-c7d354d18dfb",
   "metadata": {},
   "source": [
    "#### DC-QAOA\\['Y', 'XY'\\]"
   ]
  },
  {
   "cell_type": "code",
   "execution_count": 17,
   "id": "0435991c-5d07-4c6e-bfba-5c46b4ea1889",
   "metadata": {},
   "outputs": [
    {
     "name": "stdout",
     "output_type": "stream",
     "text": [
      "Solving for Reps 0...\n",
      "Solving for Reps 1...\n",
      "Solving for Reps 2...\n",
      "Solving for Reps 3...\n",
      "Solving for Reps 4...\n",
      "Solving for Reps 5...\n"
     ]
    }
   ],
   "source": [
    "dcqaoa_y_xy_optimal_cost = []\n",
    "\n",
    "for reps in range(max_repetitions):\n",
    "    print(f\"Solving for Reps {reps}...\")\n",
    "    dcqaoa_y_xy_optimal_cost.append([])\n",
    "    for idx, hamiltonian in enumerate(graph_hamiltonians):\n",
    "        dcqaoa_y_xy = DCQAOA( hamiltonian, num_layers = reps, cd_hamiltonian_type=['Y', 'XY', 'YX'])\n",
    "        dcqaoa_y_xy.run()\n",
    "        dcqaoa_y_xy_optimal_cost[-1].append(dcqaoa_y_xy.optimal_value)"
   ]
  },
  {
   "cell_type": "code",
   "execution_count": 18,
   "id": "8880c918-c324-4eec-80fd-daf84071fa96",
   "metadata": {},
   "outputs": [],
   "source": [
    "avg_dcqaoa_y_xy_optimal_cost = []\n",
    "for optimal_cost_arr in dcqaoa_y_xy_optimal_cost:\n",
    "    avg_dcqaoa_y_xy_optimal_cost.append(sum(optimal_cost_arr)/num_instances)\n",
    "\n",
    "avg_dcqaoa_y_xy_error = [np.abs(avg_brute_optimal_cost - dc_opt) for dc_opt in avg_dcqaoa_y_xy_optimal_cost]"
   ]
  },
  {
   "cell_type": "markdown",
   "id": "1eef4f40-11f5-48cc-8e44-5a69d47c13f8",
   "metadata": {},
   "source": [
    "#### DC-QAOA\\['Y', 'YZ'\\]"
   ]
  },
  {
   "cell_type": "code",
   "execution_count": 19,
   "id": "039d0ed6-02ab-48ee-ace4-992c42c67e36",
   "metadata": {},
   "outputs": [
    {
     "name": "stdout",
     "output_type": "stream",
     "text": [
      "Solving for Reps 0...\n",
      "Solving for Reps 1...\n",
      "Solving for Reps 2...\n",
      "Solving for Reps 3...\n",
      "Solving for Reps 4...\n",
      "Solving for Reps 5...\n"
     ]
    }
   ],
   "source": [
    "dcqaoa_y_yz_optimal_cost = []\n",
    "\n",
    "for reps in range(max_repetitions):\n",
    "    print(f\"Solving for Reps {reps}...\")\n",
    "    dcqaoa_y_yz_optimal_cost.append([])\n",
    "    for idx, hamiltonian in enumerate(graph_hamiltonians):\n",
    "        dcqaoa_y_yz = DCQAOA( hamiltonian, num_layers = reps, cd_hamiltonian_type=['Y', 'YZ', 'ZY'])\n",
    "        dcqaoa_y_yz.run()\n",
    "        dcqaoa_y_yz_optimal_cost[-1].append(dcqaoa_y_yz.optimal_value)"
   ]
  },
  {
   "cell_type": "code",
   "execution_count": 20,
   "id": "94df24cf-3c04-4641-a433-f9d8cf3543d3",
   "metadata": {},
   "outputs": [],
   "source": [
    "avg_dcqaoa_y_yz_optimal_cost = []\n",
    "for optimal_cost_arr in dcqaoa_y_yz_optimal_cost:\n",
    "    avg_dcqaoa_y_yz_optimal_cost.append(sum(optimal_cost_arr)/num_instances)\n",
    "\n",
    "avg_dcqaoa_y_yz_error = [np.abs(avg_brute_optimal_cost - dc_opt) for dc_opt in avg_dcqaoa_y_yz_optimal_cost]"
   ]
  },
  {
   "cell_type": "markdown",
   "id": "5f255920-c701-4d6c-90a5-0c58ab821db2",
   "metadata": {},
   "source": [
    "#### DC-QAOA\\['XY', 'YZ'\\]"
   ]
  },
  {
   "cell_type": "code",
   "execution_count": 22,
   "id": "671cd1a0-7ee3-4ad9-9309-47a6679d73b2",
   "metadata": {},
   "outputs": [
    {
     "name": "stdout",
     "output_type": "stream",
     "text": [
      "Solving for Reps 0...\n",
      "Solving for Reps 1...\n",
      "Solving for Reps 2...\n",
      "Solving for Reps 3...\n",
      "Solving for Reps 4...\n",
      "Solving for Reps 5...\n"
     ]
    }
   ],
   "source": [
    "dcqaoa_xy_yz_optimal_cost = []\n",
    "\n",
    "for reps in range(max_repetitions):\n",
    "    print(f\"Solving for Reps {reps}...\")\n",
    "    dcqaoa_xy_yz_optimal_cost.append([])\n",
    "    for idx, hamiltonian in enumerate(graph_hamiltonians):\n",
    "        dcqaoa_xy_yz = DCQAOA( hamiltonian, num_layers = reps, cd_hamiltonian_type=['XY', 'YX', 'YZ', 'ZY'])\n",
    "        dcqaoa_xy_yz.run()\n",
    "        dcqaoa_xy_yz_optimal_cost[-1].append(dcqaoa_xy_yz.optimal_value)"
   ]
  },
  {
   "cell_type": "code",
   "execution_count": 23,
   "id": "349ddddf-122c-4deb-98ca-ae75038d202e",
   "metadata": {},
   "outputs": [],
   "source": [
    "avg_dcqaoa_xy_yz_optimal_cost = []\n",
    "for optimal_cost_arr in dcqaoa_xy_yz_optimal_cost:\n",
    "    avg_dcqaoa_xy_yz_optimal_cost.append(sum(optimal_cost_arr)/num_instances)\n",
    "\n",
    "avg_dcqaoa_xy_yz_error = [np.abs(avg_brute_optimal_cost - dc_opt) for dc_opt in avg_dcqaoa_xy_yz_optimal_cost]"
   ]
  },
  {
   "cell_type": "markdown",
   "id": "c3914cbf-5755-4d39-989c-cb402896f4f4",
   "metadata": {},
   "source": [
    "#### DC-QAOA\\['Y', 'XY', 'YZ'\\]"
   ]
  },
  {
   "cell_type": "code",
   "execution_count": 24,
   "id": "d6ed0885-8218-457d-b7b0-705368a6c728",
   "metadata": {},
   "outputs": [
    {
     "name": "stdout",
     "output_type": "stream",
     "text": [
      "Solving for Reps 0...\n",
      "Solving for Reps 1...\n",
      "Solving for Reps 2...\n",
      "Solving for Reps 3...\n",
      "Solving for Reps 4...\n",
      "Solving for Reps 5...\n"
     ]
    }
   ],
   "source": [
    "dcqaoa_y_xy_yz_optimal_cost = []\n",
    "\n",
    "for reps in range(max_repetitions):\n",
    "    print(f\"Solving for Reps {reps}...\")\n",
    "    dcqaoa_y_xy_yz_optimal_cost.append([])\n",
    "    for idx, hamiltonian in enumerate(graph_hamiltonians):\n",
    "        dcqaoa_y_xy_yz = DCQAOA( hamiltonian, num_layers = reps, cd_hamiltonian_type=['Y', 'XY', 'YX', 'YZ', 'ZY'])\n",
    "        dcqaoa_y_xy_yz.run()\n",
    "        dcqaoa_y_xy_yz_optimal_cost[-1].append(dcqaoa_y_xy_yz.optimal_value)"
   ]
  },
  {
   "cell_type": "code",
   "execution_count": 25,
   "id": "c762e068-77cd-48b6-a74a-7bf4cd7ec2cc",
   "metadata": {},
   "outputs": [],
   "source": [
    "avg_dcqaoa_y_xy_yz_optimal_cost = []\n",
    "for optimal_cost_arr in dcqaoa_y_xy_yz_optimal_cost:\n",
    "    avg_dcqaoa_y_xy_yz_optimal_cost.append(sum(optimal_cost_arr)/num_instances)\n",
    "\n",
    "avg_dcqaoa_y_xy_yz_error = [np.abs(avg_brute_optimal_cost - dc_opt) for dc_opt in avg_dcqaoa_y_xy_yz_optimal_cost]"
   ]
  },
  {
   "cell_type": "markdown",
   "id": "39fdac86-8150-471e-8961-9c72922dfd2f",
   "metadata": {},
   "source": [
    "#### DC-QAOA\\[Commutator\\]"
   ]
  },
  {
   "cell_type": "code",
   "execution_count": 26,
   "id": "62ccd04a-dc83-48be-beb1-e5871ac01f3e",
   "metadata": {},
   "outputs": [
    {
     "name": "stdout",
     "output_type": "stream",
     "text": [
      "Solving for Reps 0...\n",
      "Solving for Reps 1...\n",
      "Solving for Reps 2...\n",
      "Solving for Reps 3...\n",
      "Solving for Reps 4...\n",
      "Solving for Reps 5...\n"
     ]
    }
   ],
   "source": [
    "dcqaoa_comm_optimal_cost = []\n",
    "\n",
    "for reps in range(max_repetitions):\n",
    "    print(f\"Solving for Reps {reps}...\")\n",
    "    dcqaoa_comm_optimal_cost.append([])\n",
    "    for idx, hamiltonian in enumerate(graph_hamiltonians):\n",
    "        dcqaoa_comm = DCQAOA( hamiltonian, num_layers = reps, cd_hamiltonian_type='commutator')\n",
    "        dcqaoa_comm.run()\n",
    "        dcqaoa_comm_optimal_cost[-1].append(dcqaoa_comm.optimal_value)"
   ]
  },
  {
   "cell_type": "code",
   "execution_count": 27,
   "id": "265e3841-18e5-497c-a766-3265ce64d42c",
   "metadata": {},
   "outputs": [],
   "source": [
    "avg_dcqaoa_comm_optimal_cost = []\n",
    "for optimal_cost_arr in dcqaoa_comm_optimal_cost:\n",
    "    avg_dcqaoa_comm_optimal_cost.append(sum(optimal_cost_arr)/num_instances)\n",
    "\n",
    "avg_dcqaoa_comm_error = [np.abs(avg_brute_optimal_cost - dc_opt) for dc_opt in avg_dcqaoa_comm_optimal_cost]"
   ]
  },
  {
   "cell_type": "markdown",
   "id": "cb505154-5099-40da-9ed8-17ba7a84f7ae",
   "metadata": {},
   "source": [
    "### Plotting the results"
   ]
  },
  {
   "cell_type": "code",
   "execution_count": 30,
   "id": "28ed19a4-c87c-4f42-9559-b65c0fb43dcd",
   "metadata": {},
   "outputs": [
    {
     "data": {
      "image/png": "[encoded data removed]",
      "text/plain": [
       "<Figure size 640x480 with 1 Axes>"
      ]
     },
     "metadata": {},
     "output_type": "display_data"
    }
   ],
   "source": [
    "plt.plot(range(max_repetitions), avg_qaoa_error, color = 'b', label = \"QAOA\")\n",
    "plt.plot(range(max_repetitions), avg_dcqaoa_y_error, color = 'g', label = \"DCQAOA['Y']\")\n",
    "plt.plot(range(max_repetitions), avg_dcqaoa_xy_error, color = 'y', label = \"DCQAOA['XY']\")\n",
    "plt.plot(range(max_repetitions), avg_dcqaoa_yz_error, color = 'c', label = \"DCQAOA['YZ']\")\n",
    "plt.plot(range(max_repetitions), avg_dcqaoa_y_xy_error, color = 'k', label = \"DCQAOA['Y', 'XY']\")\n",
    "plt.plot(range(max_repetitions), avg_dcqaoa_y_yz_error, color = 'magenta', label = \"DCQAOA['Y', 'YZ']\")\n",
    "plt.plot(range(max_repetitions), avg_dcqaoa_xy_yz_error, color = 'orange', label = \"DCQAOA['XY', 'YZ']\")\n",
    "plt.plot(range(max_repetitions), avg_dcqaoa_y_xy_yz_error, color = 'lime', label = \"DCQAOA['Y', 'XY', 'YZ']\")\n",
    "plt.plot(range(max_repetitions), avg_dcqaoa_comm_error, color = 'grey', label = \"DCQAOA[Commutator]\")\n",
    "\n",
    "plt.xlabel(\"Max. Repetitions\")\n",
    "plt.ylabel(\"Abs. Error\")\n",
    "\n",
    "plt.legend(bbox_to_anchor=(1.05, 1), loc='upper left')\n",
    "plt.show()"
   ]
  },
  {
   "cell_type": "markdown",
   "id": "ca4627e9-ecbd-4f94-b02d-22765ceaab70",
   "metadata": {},
   "source": [
    "We can infer from the plot that the only setting that performs better than QAOA is DCQAOA with only $Y$ terms in the CD Hamiltonian. This is quite interesting. Recall that the problem Hamiltonian for the MIS problem is of the form $\\sum_i \\alpha_i Z_i + \\sum_{(i,j)\\in E} \\beta_{ij}Z_iZ_j$, which contains both individual $Z$ interactions and $ZZ$ interactions. So, one might be biased to think that including $XY$ and $YZ$ terms in the CD Hamiltonian could improve the performance of the algorithm. However, the evidence suggests otherwise. In fact, the only algorithm that performs better than QAOA contains only individual $Y$ terms in the CD Hamiltonian, without any two-qubit interaction terms.\n",
    "\n",
    "So, DCQAOA with only $Y$ terms for the CD Hamiltonian is more suitable for the MIS problem than any other CD Hamiltonian setting or even QAOA. The reason behind the degradation of the performance when two-qubit interaction terms are included in the CD Hamiltonian is a good direction for a future investigation."
   ]
  }
 ],
 "metadata": {
  "kernelspec": {
   "display_name": "Python 3 (ipykernel)",
   "language": "python",
   "name": "python3"
  },
  "language_info": {
   "codemirror_mode": {
    "name": "ipython",
    "version": 3
   },
   "file_extension": ".py",
   "mimetype": "text/x-python",
   "name": "python",
   "nbconvert_exporter": "python",
   "pygments_lexer": "ipython3",
   "version": "3.12.3"
  }
 },
 "nbformat": 4,
 "nbformat_minor": 5
}
