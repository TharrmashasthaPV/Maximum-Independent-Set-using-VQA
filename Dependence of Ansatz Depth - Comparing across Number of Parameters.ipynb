{
 "cells": [
  {
   "cell_type": "markdown",
   "id": "7c224e30-886c-48a2-8307-7c47f920a1a3",
   "metadata": {},
   "source": [
    "# Dependence of Algorithms on Ansatz Depth"
   ]
  },
  {
   "cell_type": "markdown",
   "id": "970c8970-1f7d-4d42-abff-5145d2ae982d",
   "metadata": {},
   "source": [
    "The first component of any quantum variational algorithm is the __ansatz__. Ansatz is the composition of a __reference circuit__ and a __variational form__. \n",
    "* _Reference circuit_ is the quantum circuit that prepares the reference state, a non-parametric state, that serves as the initial state for the quantum variational algorithm.\n",
    "* _Variational circuit_ is a parametric circuit, consisting of parametric rotation and entangling gates.\n",
    "Together, they form the ansatz.\n",
    "\n",
    "The importance of the ansatz is better explained with an abstract example. Consider a Hamiltonian $H_p$ for a problem $P$ such that the ground state and the ground state energy of the Hamiltonian can be used to find the optimal solution to $P$. Additionally, let the Hamiltonian be an $n$ qubit Hamiltonian. Then, we know that the ground state of $H_p$ is some $n$-qubit state $|\\psi_g\\rangle$. The goal of the variational algorithm is to construct the ground state $|\\psi_g\\rangle$. Since $|\\psi\\rangle$ is some arbitrary $n$ qubit state (whose structure we have no idea about), the number of gates required can be as large as $O(2^n)$. This means that a perfect ansatz will involve exponentially many parameters. In that case, one can simply simulate the Hamiltonian classically without the need for quantum resources. So, it is important that the ansatz is not exponentially large. In fact, we would like an ansatz that contains polynomially many gates. But this reduces the __expressivity__ of the ansatz, or in other words, there is a reduction in the number of states that can be prepared using the ansatz. So, there is a tradeoff between the number of parameters and the expressivity of an ansatz. So, choosing the good (whatever that should mean) ansatz is hugely important.\n",
    "\n",
    "One approach towards a good ansatz is to use some properties of the problem Hamiltonian $H_p$ to get some insight on the structure of the ground state $|\\psi_g\\rangle$. This could allow us to construct a small enough ansatz that will be able to prepare the ground state. For instance, if for some problem Hamiltonian, we know that the ground state takes the form $\\ket{\\phi(\\Theta)} = \\frac{1}{\\sqrt{2^n}}\\sum_{j=0}^{2^n-1} e^{-i\\theta_j}\\ket{j}$, then it is possible to construct a polynomial-sized ansatz that explores only the states of the form $\\ket{\\phi(\\Theta)}$. Such ansatzes are called _problem-dependent ansatz_.\n",
    "\n",
    "Another approach, one used in QAOA-style algorithms, is to borrow the structure from quantum annealing techniques that solve the problem."
   ]
  },
  {
   "cell_type": "markdown",
   "id": "04e3680c-0cc6-4a23-ab3f-5869ee3ed851",
   "metadata": {},
   "source": [
    "Our goal in this notebook is to investigate how the depth of the ansatz affects the performance of the algorithms. For this comparison, we use three different metrics as a proxy for the depth of an ansatz.\n",
    "\n",
    "1. __Number of repetitions of an ansatz sub-circuit__.\n",
    "\n",
    "Most of the ansatz is prepared by repeating an ansatz sub-circuit multiple times. For instance, the ansatz for VQE is prepared by repeating alternating layers of parametric rotations and entangling gates. Similarly, for QAOA and QAOA-style algorithms like ADAPT-QAOA and DC-QAOA, the ansatz consists of alternating circuits corresponding to the problem and the mixer Hamiltonians. In this case, the metric we use to compare algorithms is the number of repetitions of these sub-circuits, which we call _Max-Repetitions_.\n",
    "\n",
    "2. __The depth of the ansatz circuit__.\n",
    "\n",
    "While an equal number of repetitions naively looks like a good metric, two different algorithms that use subcircuits of different size would perform differently. The algorithm that uses the larger subcircuit gains an advantage over the other since larger circuits have more expresivity thatn smaller circuits. An alternate measure that can be consider is the _depth of the ansatz_. Two circuits of similar depth more or less take the take time to execute. So, we consider the power of algorithms when their ansatzes are of the same depth.\n",
    "\n",
    "3. __Number of parameters__.\n",
    "\n",
    "Similar to the depth of the ansatz being a good measure for the time on a quantum system, the number of parameters give a good measure of the time required in the classical system. For instance, a cost function with small number of parameters is relatively easy to optimize over than a cost function with large number of parameters, for any classical optimizer. So, finally, we consider the performance of algorithms when their ansatzes have same number of parameters."
   ]
  },
  {
   "cell_type": "code",
   "execution_count": null,
   "id": "89b402ad-f44b-4972-b183-9f4f8939fc3d",
   "metadata": {},
   "outputs": [],
   "source": []
  },
  {
   "cell_type": "markdown",
   "id": "e27faba2-65b0-4a9f-84a2-9e37f7650e18",
   "metadata": {},
   "source": [
    "### 3. Number of Parameters of the Ansatz Circuits"
   ]
  },
  {
   "cell_type": "markdown",
   "id": "3f40f6b6-9bb7-4d45-a4cc-4fb5f8a0c505",
   "metadata": {},
   "source": [
    "One of the most relevant parameters associated with the expressivity of an ansatz is the __number of parameters__ of the ansatz. Of course, this is with the assumption that the ansatz contains a fair mixture of gates (An ansatz with RX, RY, and RZ gates can reach way more states than an ansatz with just RZ gates, even if the number of parameters is the same for both).\n",
    "\n",
    "In this notebook, we will study the comparative performance of variational algorithms when the number of parameters is fixed."
   ]
  },
  {
   "cell_type": "markdown",
   "id": "983fe651-5b7f-482e-93ec-85a003c807ff",
   "metadata": {},
   "source": [
    "### Importing required functions"
   ]
  },
  {
   "cell_type": "code",
   "execution_count": 1,
   "id": "8686035f-d883-4c7b-8f21-fb40a13c7dd8",
   "metadata": {},
   "outputs": [],
   "source": [
    "import warnings\n",
    "warnings.filterwarnings('ignore')"
   ]
  },
  {
   "cell_type": "code",
   "execution_count": 2,
   "id": "d0e4acd0-564d-41e4-ae0a-ee45cc6e4483",
   "metadata": {},
   "outputs": [],
   "source": [
    "from qiskit import *\n",
    "from qiskit.circuit.library import TwoLocal\n",
    "from qiskit.quantum_info import SparsePauliOp\n",
    "\n",
    "import rustworkx as rx\n",
    "import numpy as np\n",
    "from rustworkx.visualization import mpl_draw\n",
    "import matplotlib.pyplot as plt\n",
    "\n",
    "from src.graph_gen import *\n",
    "from src.hamiltonian_gen import get_hamiltonian_from_graph\n",
    "from src.helper_functions import top_k_counts"
   ]
  },
  {
   "cell_type": "code",
   "execution_count": 3,
   "id": "e17234c3-40ac-4a04-b04d-a5192af7bd77",
   "metadata": {},
   "outputs": [],
   "source": [
    "from src.bfminimize import BFMinimizeCombinatorial\n",
    "from src.qaoa import QAOA\n",
    "from src.adaptqaoa import AdaptQAOA\n",
    "from src.vqe import VQE\n",
    "from src.dcqaoa import DCQAOA"
   ]
  },
  {
   "cell_type": "code",
   "execution_count": null,
   "id": "deb1bd05-6d15-4186-911e-626ca82fe2fe",
   "metadata": {},
   "outputs": [],
   "source": []
  },
  {
   "cell_type": "markdown",
   "id": "d0fbcdc6-04c5-44a0-8860-533bd22246d6",
   "metadata": {},
   "source": [
    "#### Graph Generation and Brute Force Optimization"
   ]
  },
  {
   "cell_type": "code",
   "execution_count": 4,
   "id": "38af4ea4-4d4e-41f7-81ea-e35ced82415d",
   "metadata": {},
   "outputs": [],
   "source": [
    "num_instances = 10\n",
    "graph_instances = []\n",
    "graph_hamiltonians = []\n",
    "\n",
    "for i in range(num_instances):\n",
    "    graph = generate_random_graph(6, 0.4)\n",
    "    graph_instances.append(graph)\n",
    "    cost_hamiltonian = get_hamiltonian_from_graph(graph)\n",
    "    graph_hamiltonians.append(cost_hamiltonian)"
   ]
  },
  {
   "cell_type": "code",
   "execution_count": 5,
   "id": "f389df1d-93ca-4c0d-9ca1-e33ec791667c",
   "metadata": {},
   "outputs": [],
   "source": [
    "brute_optimal_cost = []\n",
    "for hamiltonian in graph_hamiltonians:\n",
    "    brute = BFMinimizeCombinatorial(hamiltonian)\n",
    "    brute.run()\n",
    "    brute_optimal_cost.append(brute.optimal_value)"
   ]
  },
  {
   "cell_type": "code",
   "execution_count": null,
   "id": "d437a356-2bfe-407f-8ef9-6a6a295eeed7",
   "metadata": {},
   "outputs": [],
   "source": []
  },
  {
   "cell_type": "markdown",
   "id": "20b545ab-612e-48bc-90e3-229d1a7cc51f",
   "metadata": {},
   "source": [
    "Unlike the depth of an ansatz, computing the number of parameters in an ansatz for any of the variational algorithms we consider is very straightforward. For any algorithm apart from VQE, if the ansatz of an algorithm contains $k$ many parameters when the number of repetitions is $1$, then the ansatz for that algorithm will contain $k\\cdot l$ many parameters when the number of repetitions is $l$. As for VQE, when we consider a two-local ansatz with $RX$ gates for rotation blocks and $CZ$ gates for entanglement, an additional layer of rotational gates is added after the last layer of repetition of the ansatz sub-circuit. So, if the number of parameters for a single repetition ansatz is $k+k$, then the number of parameters for an $l$ layer ansatz comes out to be $(l+1)\\cdot k$.\n",
    "\n",
    "So, to compute the number of parameters for different numbers of repetitions, let us first figure out the number of parameters in the ansatz for a single layer of repetition for each of the algorithms under consideration."
   ]
  },
  {
   "cell_type": "code",
   "execution_count": 6,
   "id": "6c5b5280-fb26-4f8b-a87a-c23b6d22b09b",
   "metadata": {},
   "outputs": [],
   "source": [
    "from qiskit_aer import AerSimulator\n",
    "from qiskit.transpiler import generate_preset_pass_manager\n",
    "\n",
    "backend = AerSimulator()\n",
    "pm = generate_preset_pass_manager(backend = backend, optimization_level = 3)\n",
    "\n",
    "max_num_layers = 10"
   ]
  },
  {
   "cell_type": "code",
   "execution_count": 7,
   "id": "1398f75f-d8df-478d-b532-ba72ca7bf7b9",
   "metadata": {},
   "outputs": [
    {
     "name": "stdout",
     "output_type": "stream",
     "text": [
      "The number of parmeters in the ansatz for VQE with a single layer of repetition is 12.\n"
     ]
    }
   ],
   "source": [
    "vqe_ansatz = TwoLocal(\n",
    "    graph_hamiltonians[0].num_qubits,\n",
    "    rotation_blocks = ['rx'],\n",
    "    entanglement_blocks = ['cz'],\n",
    "    entanglement = 'full',\n",
    "    reps = 1\n",
    ")\n",
    "vqe_ansatz = pm.run(vqe_ansatz)\n",
    "vqe_n_params = vqe_ansatz.num_parameters\n",
    "\n",
    "print(f\"The number of parmeters in the ansatz for VQE with a single layer of repetition is {vqe_n_params}.\")"
   ]
  },
  {
   "cell_type": "markdown",
   "id": "ef19ab38-8bf8-4c92-892b-e07f0993a55f",
   "metadata": {},
   "source": [
    "We obtained that the number of parameters for the VQE ansatz with a single layer of repetition is $2k = 12$.\n",
    "\n",
    "Next, for QAOA, the number of parameters in the ansatz with a single layer of repetition is $2$ as can be seen below."
   ]
  },
  {
   "cell_type": "code",
   "execution_count": 8,
   "id": "895358a1-81f5-4c4f-a849-b8f4ba771694",
   "metadata": {},
   "outputs": [
    {
     "name": "stdout",
     "output_type": "stream",
     "text": [
      "The number of parmeters in the ansatz for QAOA with a single layer of repetition is 2.\n"
     ]
    }
   ],
   "source": [
    "qaoa = QAOA(graph_hamiltonians[0], num_layers = 1)\n",
    "qaoa_ansatz = qaoa.prepare_ansatz()\n",
    "qaoa_ansatz = pm.run(qaoa_ansatz)\n",
    "qaoa_n_params = qaoa_ansatz.num_parameters\n",
    "print(f\"The number of parmeters in the ansatz for QAOA with a single layer of repetition is {qaoa_n_params}.\")"
   ]
  },
  {
   "cell_type": "markdown",
   "id": "b0b22bb5-7495-4b88-a5e7-c4c004bf6582",
   "metadata": {},
   "source": [
    "Similarly, the number of parameters in the ansatz in DCQAOA with a single layer of repetition is $3$."
   ]
  },
  {
   "cell_type": "code",
   "execution_count": 9,
   "id": "c4e48950-d3ce-4d2e-8d1c-f6432506299a",
   "metadata": {},
   "outputs": [
    {
     "name": "stdout",
     "output_type": "stream",
     "text": [
      "The number of parmeters in the ansatz for DCQAOA with a single layer of repetition is 3.\n"
     ]
    }
   ],
   "source": [
    "dcqaoa = DCQAOA(graph_hamiltonians[0], num_layers = 1, cd_hamiltonian_type = ['XY', 'YX'])\n",
    "dcqaoa_ansatz = dcqaoa.prepare_ansatz()\n",
    "dcqaoa_ansatz = pm.run(dcqaoa_ansatz)\n",
    "dcqaoa_n_params = dcqaoa_ansatz.num_parameters\n",
    "print(f\"The number of parmeters in the ansatz for DCQAOA with a single layer of repetition is {dcqaoa_n_params}.\")"
   ]
  },
  {
   "cell_type": "markdown",
   "id": "0b7613f2-30b6-4a02-94bb-799e1f441bcb",
   "metadata": {},
   "source": [
    "Now, for ADAPT-QAOA, the ansatz is constructed on the go when the optimization is being performed. However, the number of parameters for each layer of repetition is $2$, since in each layer of repetition, $1$ parameter is associated with the circuit corresponding to the problem Hamiltonian and $1$ parameter is associated with the circuit corresponding to the mixer Hamiltonian. This is oblivious to the mixer pool type, as the mixer pool type only determines the number of candidate mixer Hamiltonians for each layer, and only a single mixer Hamiltonian is chosen for each layer. So, the number of parameters associated with the mixer Hamiltonian circuit for each layer of repetition remains $1$ in both the mixer pool types."
   ]
  },
  {
   "cell_type": "code",
   "execution_count": 10,
   "id": "b4be1f32-a860-4b26-b437-d11b69463dea",
   "metadata": {},
   "outputs": [],
   "source": [
    "aqaoa_single_n_params = 2\n",
    "aqaoa_double_n_params = 2"
   ]
  },
  {
   "cell_type": "code",
   "execution_count": 11,
   "id": "cd537d18-e924-442c-98fa-8dd25e882fff",
   "metadata": {},
   "outputs": [],
   "source": [
    "k_vqe = vqe_n_params/2\n",
    "vqe_params = [(reps+1)*k_vqe for reps in range(11)]\n",
    "qaoa_params = [reps*qaoa_n_params for reps in range(11)]\n",
    "aqaoa_single_params = [reps*aqaoa_single_n_params for reps in range(11)]\n",
    "aqaoa_double_params = [reps*aqaoa_double_n_params for reps in range(11)]\n",
    "dcqaoa_params = [reps*dcqaoa_n_params for reps in range(11)]"
   ]
  },
  {
   "cell_type": "code",
   "execution_count": 12,
   "id": "2df8951f-f11d-4d4e-a430-6b95c009ecdd",
   "metadata": {},
   "outputs": [
    {
     "data": {
      "image/png": "[encoded data removed]",
      "text/plain": [
       "<Figure size 640x480 with 1 Axes>"
      ]
     },
     "metadata": {},
     "output_type": "display_data"
    }
   ],
   "source": [
    "plt.scatter(range(11), vqe_params, color='r', label='VQE', s=20)\n",
    "plt.scatter(range(11), qaoa_params, color='b', label='QAOA', s=20)\n",
    "plt.scatter(range(11), aqaoa_single_params, color='brown', label='AdaptQAOA(Single)', s=20)\n",
    "plt.scatter(range(11), aqaoa_double_params, color='purple', label='AdaptQAOA(Double)', s=20)\n",
    "plt.scatter(range(11), dcqaoa_params, color='y', label='DCQAOA[XY, YX]', s=20)\n",
    "\n",
    "plt.axhline(y=6, linestyle='--', linewidth=1)\n",
    "plt.axhline(y=12, linestyle='--', linewidth=1)\n",
    "plt.axhline(y=18, linestyle='--', linewidth=1)\n",
    "\n",
    "plt.xlabel(\"Max Repetitions\")\n",
    "plt.ylabel(\"Number of Parameters\")\n",
    "\n",
    "plt.legend(bbox_to_anchor=(1.05, 1), loc='upper left')\n",
    "plt.show()"
   ]
  },
  {
   "cell_type": "markdown",
   "id": "39e4a234-76ed-4270-804d-5b36789ed720",
   "metadata": {},
   "source": [
    "__Note:__ _Since the number of parameters for QAOA, ADAPT-QAOA(Single), and ADAPT-QAOA(Double) is equal for each layer of repetition, the scatter points corresponding to these algorithms overlap with each other in the provided scatter plot._\n",
    "\n",
    "Clearly, for any fixed number of repetitions, the VQE ansatz has the largest number of parameters, at least $2$ times more than that of DCQAOA and at least $3$ times more than that of QAOA and ADAPT-QAOA.\n",
    "\n",
    "For the comparison, we consider three different parameter budgets: $6$ parameters, $12$ parameters, and $18$ parameters. For VQE, the number of parameters, even for a single layer of repetition, is $12$. To limit the number of parameters to $6$, we use a two-local ansatz that consists of only the first rotation layer. So, the parameter budgets correspond to $0, 1$, and $2$ layers of repetition. For DCQAOA, the parameter budgets correspond to $2, 4$, and $6$ layers of repetition, and for QAOA and ADAPT-QAOA, they correspond to $3, 6$, and $9$ layers of repetition."
   ]
  },
  {
   "cell_type": "markdown",
   "id": "b6880b6a-7dd9-4368-97c7-e7857481d96e",
   "metadata": {},
   "source": [
    "#### VQE"
   ]
  },
  {
   "cell_type": "code",
   "execution_count": 13,
   "id": "e2159a38-b86d-4a70-b55e-a0fb785d713f",
   "metadata": {},
   "outputs": [
    {
     "name": "stdout",
     "output_type": "stream",
     "text": [
      "Solving for reps 0...\n",
      "Solving for reps 1...\n",
      "Solving for reps 2...\n"
     ]
    }
   ],
   "source": [
    "vqe_reps = [0, 1, 2]\n",
    "avg_vqe_error = []\n",
    "\n",
    "for reps in vqe_reps:\n",
    "    print(f\"Solving for reps {reps}...\")\n",
    "    vqe_rep_optimal_costs = []\n",
    "    for hamiltonian in graph_hamiltonians:\n",
    "        vqe_ansatz = TwoLocal(\n",
    "                    hamiltonian.num_qubits,\n",
    "                    rotation_blocks = ['rx'],\n",
    "                    entanglement_blocks = ['cz'],\n",
    "                    entanglement = 'full',\n",
    "                    reps = reps,\n",
    "                )\n",
    "        vqe = VQE(hamiltonian, ansatz = vqe_ansatz, optimizer_options = {'maxiter': 2000})\n",
    "        vqe.run()\n",
    "        vqe_rep_optimal_costs.append(vqe.optimal_value)\n",
    "    vqe_error = [np.abs(b_opt - v_opt) for b_opt, v_opt in zip(brute_optimal_cost, vqe_rep_optimal_costs)]\n",
    "    avg_vqe_error.append(sum(vqe_error)/num_instances)"
   ]
  },
  {
   "cell_type": "markdown",
   "id": "501fcbd7-cd76-46ed-a153-5d0c433807fb",
   "metadata": {},
   "source": [
    "#### QAOA"
   ]
  },
  {
   "cell_type": "code",
   "execution_count": 14,
   "id": "501e0160-3ae7-4c95-8c3b-3890f1e289ef",
   "metadata": {},
   "outputs": [
    {
     "name": "stdout",
     "output_type": "stream",
     "text": [
      "Solving for reps 3...\n",
      "Solving for reps 6...\n",
      "Solving for reps 9...\n"
     ]
    }
   ],
   "source": [
    "qaoa_reps = [3, 6, 9]\n",
    "avg_qaoa_error = []\n",
    "\n",
    "for reps in qaoa_reps:\n",
    "    print(f\"Solving for reps {reps}...\")\n",
    "    qaoa_rep_optimal_costs = []\n",
    "    for hamiltonian in graph_hamiltonians:\n",
    "        qaoa = QAOA(hamiltonian, num_layers = reps, optimizer_options = {'maxiter': 2000})\n",
    "        qaoa.run()\n",
    "        qaoa_rep_optimal_costs.append(qaoa.optimal_value)\n",
    "    qaoa_error = [np.abs(b_opt - q_opt) for b_opt, q_opt in zip(brute_optimal_cost, qaoa_rep_optimal_costs)]\n",
    "    avg_qaoa_error.append(sum(qaoa_error)/num_instances)"
   ]
  },
  {
   "cell_type": "markdown",
   "id": "968d58c1-8f79-4291-8ed1-2e26d9c1f5ef",
   "metadata": {},
   "source": [
    "#### ADAPT-QAOA (Single)"
   ]
  },
  {
   "cell_type": "code",
   "execution_count": 15,
   "id": "e5213929-4193-464c-b60c-6ada29d7f442",
   "metadata": {},
   "outputs": [
    {
     "name": "stdout",
     "output_type": "stream",
     "text": [
      "Solving for reps 3...\n",
      "Solving for reps 6...\n",
      "The difference in the cost of two consecutive iterations is less than the error threshold. The algorithm has converged.\n",
      "The difference in the cost of two consecutive iterations is less than the error threshold. The algorithm has converged.\n",
      "The difference in the cost of two consecutive iterations is less than the error threshold. The algorithm has converged.\n",
      "Solving for reps 9...\n",
      "The difference in the cost of two consecutive iterations is less than the error threshold. The algorithm has converged.\n",
      "The difference in the cost of two consecutive iterations is less than the error threshold. The algorithm has converged.\n",
      "The difference in the cost of two consecutive iterations is less than the error threshold. The algorithm has converged.\n",
      "The difference in the cost of two consecutive iterations is less than the error threshold. The algorithm has converged.\n",
      "The difference in the cost of two consecutive iterations is less than the error threshold. The algorithm has converged.\n"
     ]
    }
   ],
   "source": [
    "aqaoa_single_reps = [3, 6, 9]\n",
    "avg_aqaoa_single_error = []\n",
    "\n",
    "for reps in aqaoa_single_reps:\n",
    "    print(f\"Solving for reps {reps}...\")\n",
    "    aqaoa_single_rep_optimal_costs = []\n",
    "    for hamiltonian in graph_hamiltonians:\n",
    "        aqaoa_single = AdaptQAOA(hamiltonian, max_num_layers = reps, mixer_pool_type = 'single', optimizer_options = {'maxiter': 2000})\n",
    "        aqaoa_single.run()\n",
    "        aqaoa_single_rep_optimal_costs.append(aqaoa_single.optimal_value)\n",
    "    aqaoa_single_error = [np.abs(b_opt - a_s_opt) for b_opt, a_s_opt in zip(brute_optimal_cost, aqaoa_single_rep_optimal_costs)]\n",
    "    avg_aqaoa_single_error.append(sum(aqaoa_single_error)/num_instances)"
   ]
  },
  {
   "cell_type": "markdown",
   "id": "3b673ce3-5206-4244-8222-910952339154",
   "metadata": {},
   "source": [
    "#### ADAPT-QAOA (Double)"
   ]
  },
  {
   "cell_type": "code",
   "execution_count": 16,
   "id": "1102d3a2-4ad7-4fb2-8b96-ce95ad887ff9",
   "metadata": {},
   "outputs": [
    {
     "name": "stdout",
     "output_type": "stream",
     "text": [
      "Solving for reps 3...\n",
      "Solving for reps 6...\n",
      "The difference in the cost of two consecutive iterations is less than the error threshold. The algorithm has converged.\n",
      "Solving for reps 9...\n",
      "The difference in the cost of two consecutive iterations is less than the error threshold. The algorithm has converged.\n",
      "The difference in the cost of two consecutive iterations is less than the error threshold. The algorithm has converged.\n"
     ]
    }
   ],
   "source": [
    "aqaoa_double_reps = [3, 6, 9]\n",
    "avg_aqaoa_double_error = []\n",
    "\n",
    "for reps in aqaoa_double_reps:\n",
    "    print(f\"Solving for reps {reps}...\")\n",
    "    aqaoa_double_rep_optimal_costs = []\n",
    "    for hamiltonian in graph_hamiltonians:\n",
    "        aqaoa_double = AdaptQAOA(hamiltonian, max_num_layers = reps, mixer_pool_type = 'double', optimizer_options = {'maxiter': 2000})\n",
    "        aqaoa_double.run()\n",
    "        aqaoa_double_rep_optimal_costs.append(aqaoa_double.optimal_value)\n",
    "    aqaoa_double_error = [np.abs(b_opt - a_d_opt) for b_opt, a_d_opt in zip(brute_optimal_cost, aqaoa_double_rep_optimal_costs)]\n",
    "    avg_aqaoa_double_error.append(sum(aqaoa_double_error)/num_instances)"
   ]
  },
  {
   "cell_type": "markdown",
   "id": "c70f79b2-793e-4826-8da1-d2d4ecf66848",
   "metadata": {},
   "source": [
    "#### DCQAOA \\['XY', 'YX'\\]"
   ]
  },
  {
   "cell_type": "code",
   "execution_count": 18,
   "id": "9a329737-0bd9-40b3-b69e-a54a45c9c0b9",
   "metadata": {},
   "outputs": [
    {
     "name": "stdout",
     "output_type": "stream",
     "text": [
      "Solving for reps 2...\n",
      "Solving for reps 4...\n",
      "Solving for reps 6...\n"
     ]
    }
   ],
   "source": [
    "dcqaoa_reps = [2, 4, 6]\n",
    "avg_dcqaoa_error = []\n",
    "\n",
    "for reps in dcqaoa_reps:\n",
    "    print(f\"Solving for reps {reps}...\")\n",
    "    dcqaoa_rep_optimal_costs = []\n",
    "    for hamiltonian in graph_hamiltonians:\n",
    "        dcqaoa = DCQAOA(hamiltonian, num_layers = reps, cd_hamiltonian_type = ['XY', 'YX'], optimizer_options = {'maxiter': 2000})\n",
    "        dcqaoa.run()\n",
    "        dcqaoa_rep_optimal_costs.append(dcqaoa.optimal_value)\n",
    "    dcqaoa_error = [np.abs(b_opt - q_opt) for b_opt, q_opt in zip(brute_optimal_cost, dcqaoa_rep_optimal_costs)]\n",
    "    avg_dcqaoa_error.append(sum(dcqaoa_error)/num_instances)"
   ]
  },
  {
   "cell_type": "markdown",
   "id": "9a70723e-83f1-4049-bf82-34ba949456f7",
   "metadata": {},
   "source": [
    "#### Plotting the results"
   ]
  },
  {
   "cell_type": "code",
   "execution_count": 19,
   "id": "284092c2-31df-4338-a77a-f94d98d938f7",
   "metadata": {},
   "outputs": [
    {
     "data": {
      "image/png": "[encoded data removed]",
      "text/plain": [
       "<Figure size 640x480 with 1 Axes>"
      ]
     },
     "metadata": {},
     "output_type": "display_data"
    }
   ],
   "source": [
    "plt.scatter(range(3), avg_vqe_error, color = 'r', label = 'VQE')\n",
    "plt.scatter(range(3), avg_qaoa_error, color = 'b', label = 'QAOA')\n",
    "plt.scatter(range(3), avg_aqaoa_single_error, color = 'g', label = 'ADAPT-QAOA(Single)')\n",
    "plt.scatter(range(3), avg_aqaoa_double_error, color = 'y', label = 'ADAPT-QAOA(Double)')\n",
    "plt.scatter(range(3), avg_dcqaoa_error, color = 'k', label = 'DCQAOA')\n",
    "\n",
    "plt.xticks([0, 1, 2], ['6', '12', '18'])\n",
    "plt.xlabel('Number of Parameters')\n",
    "plt.ylabel('Absolute Error')\n",
    "plt.legend(bbox_to_anchor=(1.05, 1), loc='upper left')\n",
    "plt.show()"
   ]
  },
  {
   "cell_type": "markdown",
   "id": "8d50dfea-6cfc-438e-932c-8568c24665fb",
   "metadata": {},
   "source": [
    "We can observe that when the number of parameters is $6$, VQE outperforms all the other algorithms. However, when the number of parameters in the ansatz is $12$ or $18$, the performances of VQE and ADAPT-QAOA with single mixer pool type are very similar and are better than the other algorithms. The performance of ADAPT-QAOA with the double mixer pool type closely follows that of VQE and ADAPT-QAOA with the single mixer pool type. In the experiments with fixed depth and fixed number of repetitions, VQE performed better than all algorithms. We hypothesized that this performance of VQE _could_ be due to the large number of parameters of VQE ansatzes. The experiments in this notebook indicate that the number of parameters is a __highly influential__ variable when it comes to expressivity of the ansatzes across the algorithms considered.\n",
    "\n",
    "\n",
    "QAOA falls behind these three algorithms, although the error reduces as the number of parameters is increased. \n",
    "\n",
    "However, DCQAOA performs the worst of all algorithms, with no significant reduction in error even with an increase in the number of parameters. The performance of DCQAOA over all three settings of Ansatzes is very poor. It is surprising to see that DCQAOA performs worse than QAOA, even though the main idea of DCQAOA is a better approximation to quantum annealing than naive QAOA. Although we could possibly attribute this poor performance to the lack of $YZ$ and $ZY$ terms in the CD Hamiltonian, a deeper study is required to understand the cause of this poor performance across all settings."
   ]
  },
  {
   "cell_type": "code",
   "execution_count": null,
   "id": "6222df5e-c4bc-4c6d-ac6f-d954c9dd5227",
   "metadata": {},
   "outputs": [],
   "source": []
  }
 ],
 "metadata": {
  "kernelspec": {
   "display_name": "Python 3 (ipykernel)",
   "language": "python",
   "name": "python3"
  },
  "language_info": {
   "codemirror_mode": {
    "name": "ipython",
    "version": 3
   },
   "file_extension": ".py",
   "mimetype": "text/x-python",
   "name": "python",
   "nbconvert_exporter": "python",
   "pygments_lexer": "ipython3",
   "version": "3.12.3"
  }
 },
 "nbformat": 4,
 "nbformat_minor": 5
}
